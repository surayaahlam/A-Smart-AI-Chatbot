{
  "nbformat": 4,
  "nbformat_minor": 0,
  "metadata": {
    "colab": {
      "provenance": []
    },
    "kernelspec": {
      "name": "python3",
      "display_name": "Python 3"
    }
  },
  "cells": [
    {
      "cell_type": "code",
      "metadata": {
        "id": "KqprNJulNNRG",
        "outputId": "55d5f33e-a552-4310-c86d-cfd120edbe4f",
        "colab": {
          "base_uri": "https://localhost:8080/",
          "height": 51
        }
      },
      "source": [
        "pip install nltk"
      ],
      "execution_count": null,
      "outputs": [
        {
          "output_type": "stream",
          "text": [
            "Requirement already satisfied: nltk in /usr/local/lib/python3.6/dist-packages (3.2.5)\n",
            "Requirement already satisfied: six in /usr/local/lib/python3.6/dist-packages (from nltk) (1.12.0)\n"
          ],
          "name": "stdout"
        }
      ]
    },
    {
      "cell_type": "code",
      "metadata": {
        "id": "uCCn9ODSNU7P",
        "outputId": "9a1967a4-97fd-4f74-ad6e-b7cf05528536",
        "colab": {
          "base_uri": "https://localhost:8080/",
          "height": 870
        }
      },
      "source": [
        "pip install newspaper3k"
      ],
      "execution_count": null,
      "outputs": [
        {
          "output_type": "stream",
          "text": [
            "Collecting newspaper3k\n",
            "\u001b[?25l  Downloading https://files.pythonhosted.org/packages/d7/b9/51afecb35bb61b188a4b44868001de348a0e8134b4dfa00ffc191567c4b9/newspaper3k-0.2.8-py3-none-any.whl (211kB)\n",
            "\r\u001b[K     |█▌                              | 10kB 19.3MB/s eta 0:00:01\r\u001b[K     |███                             | 20kB 3.1MB/s eta 0:00:01\r\u001b[K     |████▋                           | 30kB 3.8MB/s eta 0:00:01\r\u001b[K     |██████▏                         | 40kB 4.2MB/s eta 0:00:01\r\u001b[K     |███████▊                        | 51kB 3.6MB/s eta 0:00:01\r\u001b[K     |█████████▎                      | 61kB 4.1MB/s eta 0:00:01\r\u001b[K     |██████████▉                     | 71kB 4.3MB/s eta 0:00:01\r\u001b[K     |████████████▍                   | 81kB 4.7MB/s eta 0:00:01\r\u001b[K     |██████████████                  | 92kB 5.0MB/s eta 0:00:01\r\u001b[K     |███████████████▌                | 102kB 4.8MB/s eta 0:00:01\r\u001b[K     |█████████████████               | 112kB 4.8MB/s eta 0:00:01\r\u001b[K     |██████████████████▋             | 122kB 4.8MB/s eta 0:00:01\r\u001b[K     |████████████████████▏           | 133kB 4.8MB/s eta 0:00:01\r\u001b[K     |█████████████████████▊          | 143kB 4.8MB/s eta 0:00:01\r\u001b[K     |███████████████████████▎        | 153kB 4.8MB/s eta 0:00:01\r\u001b[K     |████████████████████████▉       | 163kB 4.8MB/s eta 0:00:01\r\u001b[K     |██████████████████████████▍     | 174kB 4.8MB/s eta 0:00:01\r\u001b[K     |████████████████████████████    | 184kB 4.8MB/s eta 0:00:01\r\u001b[K     |█████████████████████████████▌  | 194kB 4.8MB/s eta 0:00:01\r\u001b[K     |███████████████████████████████ | 204kB 4.8MB/s eta 0:00:01\r\u001b[K     |████████████████████████████████| 215kB 4.8MB/s \n",
            "\u001b[?25hCollecting feedparser>=5.2.1\n",
            "\u001b[?25l  Downloading https://files.pythonhosted.org/packages/91/d8/7d37fec71ff7c9dbcdd80d2b48bcdd86d6af502156fc93846fb0102cb2c4/feedparser-5.2.1.tar.bz2 (192kB)\n",
            "\r\u001b[K     |█▊                              | 10kB 21.7MB/s eta 0:00:01\r\u001b[K     |███▍                            | 20kB 16.7MB/s eta 0:00:01\r\u001b[K     |█████▏                          | 30kB 22.1MB/s eta 0:00:01\r\u001b[K     |██████▉                         | 40kB 19.5MB/s eta 0:00:01\r\u001b[K     |████████▌                       | 51kB 11.8MB/s eta 0:00:01\r\u001b[K     |██████████▎                     | 61kB 13.7MB/s eta 0:00:01\r\u001b[K     |████████████                    | 71kB 15.2MB/s eta 0:00:01\r\u001b[K     |█████████████▋                  | 81kB 16.6MB/s eta 0:00:01\r\u001b[K     |███████████████▍                | 92kB 18.0MB/s eta 0:00:01\r\u001b[K     |█████████████████               | 102kB 13.8MB/s eta 0:00:01\r\u001b[K     |██████████████████▊             | 112kB 13.8MB/s eta 0:00:01\r\u001b[K     |████████████████████▌           | 122kB 13.8MB/s eta 0:00:01\r\u001b[K     |██████████████████████▏         | 133kB 13.8MB/s eta 0:00:01\r\u001b[K     |███████████████████████▉        | 143kB 13.8MB/s eta 0:00:01\r\u001b[K     |█████████████████████████▋      | 153kB 13.8MB/s eta 0:00:01\r\u001b[K     |███████████████████████████▎    | 163kB 13.8MB/s eta 0:00:01\r\u001b[K     |█████████████████████████████   | 174kB 13.8MB/s eta 0:00:01\r\u001b[K     |██████████████████████████████▊ | 184kB 13.8MB/s eta 0:00:01\r\u001b[K     |████████████████████████████████| 194kB 13.8MB/s \n",
            "\u001b[?25hRequirement already satisfied: PyYAML>=3.11 in /usr/local/lib/python3.6/dist-packages (from newspaper3k) (3.13)\n",
            "Requirement already satisfied: python-dateutil>=2.5.3 in /usr/local/lib/python3.6/dist-packages (from newspaper3k) (2.8.1)\n",
            "Requirement already satisfied: beautifulsoup4>=4.4.1 in /usr/local/lib/python3.6/dist-packages (from newspaper3k) (4.6.3)\n",
            "Requirement already satisfied: nltk>=3.2.1 in /usr/local/lib/python3.6/dist-packages (from newspaper3k) (3.2.5)\n",
            "Collecting feedfinder2>=0.0.4\n",
            "  Downloading https://files.pythonhosted.org/packages/35/82/1251fefec3bb4b03fd966c7e7f7a41c9fc2bb00d823a34c13f847fd61406/feedfinder2-0.0.4.tar.gz\n",
            "Collecting cssselect>=0.9.2\n",
            "  Downloading https://files.pythonhosted.org/packages/3b/d4/3b5c17f00cce85b9a1e6f91096e1cc8e8ede2e1be8e96b87ce1ed09e92c5/cssselect-1.1.0-py2.py3-none-any.whl\n",
            "Requirement already satisfied: requests>=2.10.0 in /usr/local/lib/python3.6/dist-packages (from newspaper3k) (2.23.0)\n",
            "Collecting tldextract>=2.0.1\n",
            "\u001b[?25l  Downloading https://files.pythonhosted.org/packages/fd/0e/9ab599d6e78f0340bb1d1e28ddeacb38c8bb7f91a1b0eae9a24e9603782f/tldextract-2.2.2-py2.py3-none-any.whl (48kB)\n",
            "\u001b[K     |████████████████████████████████| 51kB 6.0MB/s \n",
            "\u001b[?25hCollecting jieba3k>=0.35.1\n",
            "\u001b[?25l  Downloading https://files.pythonhosted.org/packages/a9/cb/2c8332bcdc14d33b0bedd18ae0a4981a069c3513e445120da3c3f23a8aaa/jieba3k-0.35.1.zip (7.4MB)\n",
            "\u001b[K     |████████████████████████████████| 7.4MB 13.3MB/s \n",
            "\u001b[?25hCollecting tinysegmenter==0.3\n",
            "  Downloading https://files.pythonhosted.org/packages/17/82/86982e4b6d16e4febc79c2a1d68ee3b707e8a020c5d2bc4af8052d0f136a/tinysegmenter-0.3.tar.gz\n",
            "Requirement already satisfied: lxml>=3.6.0 in /usr/local/lib/python3.6/dist-packages (from newspaper3k) (4.2.6)\n",
            "Requirement already satisfied: Pillow>=3.3.0 in /usr/local/lib/python3.6/dist-packages (from newspaper3k) (7.0.0)\n",
            "Requirement already satisfied: six>=1.5 in /usr/local/lib/python3.6/dist-packages (from python-dateutil>=2.5.3->newspaper3k) (1.12.0)\n",
            "Requirement already satisfied: chardet<4,>=3.0.2 in /usr/local/lib/python3.6/dist-packages (from requests>=2.10.0->newspaper3k) (3.0.4)\n",
            "Requirement already satisfied: certifi>=2017.4.17 in /usr/local/lib/python3.6/dist-packages (from requests>=2.10.0->newspaper3k) (2020.4.5.1)\n",
            "Requirement already satisfied: urllib3!=1.25.0,!=1.25.1,<1.26,>=1.21.1 in /usr/local/lib/python3.6/dist-packages (from requests>=2.10.0->newspaper3k) (1.24.3)\n",
            "Requirement already satisfied: idna<3,>=2.5 in /usr/local/lib/python3.6/dist-packages (from requests>=2.10.0->newspaper3k) (2.9)\n",
            "Requirement already satisfied: setuptools in /usr/local/lib/python3.6/dist-packages (from tldextract>=2.0.1->newspaper3k) (46.1.3)\n",
            "Collecting requests-file>=1.4\n",
            "  Downloading https://files.pythonhosted.org/packages/77/86/cdb5e8eaed90796aa83a6d9f75cfbd37af553c47a291cd47bc410ef9bdb2/requests_file-1.5.1-py2.py3-none-any.whl\n",
            "Building wheels for collected packages: feedparser, feedfinder2, jieba3k, tinysegmenter\n",
            "  Building wheel for feedparser (setup.py) ... \u001b[?25l\u001b[?25hdone\n",
            "  Created wheel for feedparser: filename=feedparser-5.2.1-cp36-none-any.whl size=44940 sha256=0c0f323033ccbc79cee8496e91bf7b930f63e880c15bb55a8247b03489ccd3de\n",
            "  Stored in directory: /root/.cache/pip/wheels/8c/69/b7/f52763c41c5471df57703a0ef718a32a5e81ee35dcf6d4f97f\n",
            "  Building wheel for feedfinder2 (setup.py) ... \u001b[?25l\u001b[?25hdone\n",
            "  Created wheel for feedfinder2: filename=feedfinder2-0.0.4-cp36-none-any.whl size=3357 sha256=ac7df1096c1a031c18041a4af82432d946489441336512c4688e696d877efb38\n",
            "  Stored in directory: /root/.cache/pip/wheels/de/03/ca/778e3a7a627e3d98836cc890e7cb40c7575424cfd3340f40ed\n",
            "  Building wheel for jieba3k (setup.py) ... \u001b[?25l\u001b[?25hdone\n",
            "  Created wheel for jieba3k: filename=jieba3k-0.35.1-cp36-none-any.whl size=7398406 sha256=289836c61da38e435d4cc39d5704f5e6842080bb55972052401670a06c7bb68e\n",
            "  Stored in directory: /root/.cache/pip/wheels/83/15/9c/a3f1f67e7f7181170ad37d32e503c35da20627c013f438ed34\n",
            "  Building wheel for tinysegmenter (setup.py) ... \u001b[?25l\u001b[?25hdone\n",
            "  Created wheel for tinysegmenter: filename=tinysegmenter-0.3-cp36-none-any.whl size=13539 sha256=026b7ee0235ca7477e1ce268a6b8f4c925deb03ac468071270356e279d453ec2\n",
            "  Stored in directory: /root/.cache/pip/wheels/81/2b/43/a02ede72324dd40cdd7ca53aad718c7710628e91b8b0dc0f02\n",
            "Successfully built feedparser feedfinder2 jieba3k tinysegmenter\n",
            "Installing collected packages: feedparser, feedfinder2, cssselect, requests-file, tldextract, jieba3k, tinysegmenter, newspaper3k\n",
            "Successfully installed cssselect-1.1.0 feedfinder2-0.0.4 feedparser-5.2.1 jieba3k-0.35.1 newspaper3k-0.2.8 requests-file-1.5.1 tinysegmenter-0.3 tldextract-2.2.2\n"
          ],
          "name": "stdout"
        }
      ]
    },
    {
      "cell_type": "code",
      "metadata": {
        "id": "C6aaC2j-NgAr"
      },
      "source": [
        "from newspaper import Article\n",
        "import random\n",
        "import string\n",
        "from sklearn.feature_extraction.text import TfidfVectorizer\n",
        "from sklearn.metrics.pairwise import cosine_similarity\n",
        "import nltk\n",
        "import numpy as np\n",
        "import warnings"
      ],
      "execution_count": null,
      "outputs": []
    },
    {
      "cell_type": "code",
      "metadata": {
        "id": "WwCmtu2DNnag"
      },
      "source": [
        "warnings.filterwarnings('ignore')"
      ],
      "execution_count": null,
      "outputs": []
    },
    {
      "cell_type": "code",
      "metadata": {
        "id": "GZ8_KiBXNrHr",
        "outputId": "3ee36f5d-620e-43a2-ec3f-28d06cbd0a0d",
        "colab": {
          "base_uri": "https://localhost:8080/",
          "height": 34
        }
      },
      "source": [
        "nltk.download('punkt', quiet=True)\n",
        "nltk.download('wordnet', quiet=True)"
      ],
      "execution_count": null,
      "outputs": [
        {
          "output_type": "execute_result",
          "data": {
            "text/plain": [
              "True"
            ]
          },
          "metadata": {
            "tags": []
          },
          "execution_count": 5
        }
      ]
    },
    {
      "cell_type": "code",
      "metadata": {
        "id": "pF0y8lQqNvPz",
        "outputId": "2b78ae13-3f25-451e-ce0d-f66198c77881",
        "colab": {
          "base_uri": "https://localhost:8080/",
          "height": 1000
        }
      },
      "source": [
        "article = Article('https://medicalaid.org/coronavirus-what-you-need-to-know/?gclid=Cj0KCQjw7qn1BRDqARIsAKMbHDYc0mbVeyDAJEizV5WPqZ39sVH1kR8iMNwCj-B3iSajJT1gO6LLgQUaAgk3EALw_wcB')\n",
        "article.download()\n",
        "article.parse()\n",
        "article.nlp()\n",
        "corpus = article.text\n",
        "\n",
        "print(corpus)"
      ],
      "execution_count": null,
      "outputs": [
        {
          "output_type": "stream",
          "text": [
            "The 2019 novel coronavirus has the potential to be a global pandemic. Health officials say it originated in a market in Wuhan, China that sold live and dead wild animals that people ate for food, improved health and vitality and a number of other purposes. The virus has now been detected in Australia, Canada, Finland, France, India, Italy, Japan, Nepal, Russia, Singapore, Spain, Taiwan, Thailand, Vietnam, the United States and over a dozen other countries.\n",
            "\n",
            "Health Officials Being Proactive\n",
            "\n",
            "The good news is health officials around the world are being proactive in working to stop the virus from spreading. They have identified and broadcast the symptoms of the illness and have begun to quarantine people with the illness to prevent them from passing it on to others. Beginning Sunday, February 2, American citizens, permanent residents, as well as their immediate family members who have been to China’s Hubei province recently or had contact with people who had, must undergo a two-week mandatory quarantine period to ensure they are not infected with the 2019-nCOV virus.\n",
            "\n",
            "A Two Week Incubation Period\n",
            "\n",
            "One of the issues that has contributed to the spread of what health officials are calling the 2019-nCOV virus is its two week incubation period. During this time, a person may have the virus, display no symptoms of it, but can still spread it to others. This makes it difficult for people to know who has the virus and when they should take actions to protect themselves from becoming infected. This has created an extra sense of concern that the virus could quietly continue to spread.\n",
            "\n",
            "Symptoms Of The Illness\n",
            "\n",
            "People infected with the 2019 novel coronavirus begin to experience mild cold or flu-like symptoms in two to four days. Although the symptoms can vary from one person to the next, they typically include sneezing, coughing, runny nose, fatigue, sore throat and fever.\n",
            "\n",
            "Wash Hands Regularly\n",
            "\n",
            "According to healthcare experts one of the simplest things people can do to protect themselves from the 2019-nCoV virus is to wash their hands regularly with soap and water after making contact with people who could potentially have it. They recommend washing hands for at least 20 seconds before touching your eyes, nose, mouth or food.\n",
            "\n",
            "Treating The Virus\n",
            "\n",
            "Currently there’s no cure for the 2019-nCOV virus. Common treatments that have proven to be somewhat effective in controlling the symptoms include taking over-the-counter medication, drinking lots of water, getting adequate rest, avoiding overexertion, not smoking, staying away from smoky areas and using clean mist vaporizers or humidifiers.\n",
            "\n",
            "Taking medications like acetaminophen, ibuprofen and naproxen can help to reduce the pain and fever associated with the illness.\n",
            "\n",
            "What Are Coronaviruses\n",
            "\n",
            "Coronaviruses are a group of viruses which typically tend to affect human and other mammal’s respiratory tract and their guts. The viruses are closely associated with infections like pneumonia, the common cold and conditions like severe acute respiratory syndrome(SARS) and Middle East Respiratory Syndrome(MERS).\n",
            "\n",
            "Origin Of The Coronavirus\n",
            "\n",
            "In 1937, coronaviruses were first identified as an infectious bronchitis virus with which birds suffered that could devastate poultry stocks. Today, the viruses are the cause of the common cold in 15% to 30% of all cases. In the past 70 years, researchers have found camels, cattle, cats, dogs, horses, mice, pigs, rats and turkeys that were infected with coronaviruses.\n",
            "\n",
            "Number Of Confirmed Cases\n",
            "\n",
            "According to research done by Johns Hopkins University, there are more than 20,000 confirmed coronavirus cases related to the current outbreak. However, although there are a few cases in about two dozen or more countries worldwide, the overwhelming majority of people who have been sickened and all but one who has been killed by the virus are in the city of Wuhan, China. Students who study abroad in other parts of China have not been affected by the virus.\n",
            "\n",
            "Travel Restrictions\n",
            "\n",
            "People who live or work in Wuhan, China have been quarantined in place and restricted from traveling outside the city. Residents of other cities in Hubei Province, in which Wuhan is located, have also been restricted from leaving and travelling to other parts of China or abroad. Taiwan and Hong Kong have restricted people from Hubei Province from entering the countries. The Centers for Disease Control And Prevention strongly recommends Americans avoid nonessential travel to China.\n",
            "\n",
            "Canceled Flights And Airport Screening\n",
            "\n",
            "To reduce the risk of the 2019-nCoV virus spreading outside Wuhan, China and Hubei Province, airlines have canceled all flights into the area. More than 20 major U.S. airports are conducting screenings of passengers travelling from China to check for 2019-nCoV virus symptoms, CDC officials announced on January, 28, 2020. Thailand, Japan, South Korea, India, the United Kingdom, Russia, Bangladesh, Malaysia, Italy, Nigeria, Singapore, China and many other countries are also screening passengers at their airports who may have had contact with infected people.\n",
            "\n",
            "Work On A Vaccine\n",
            "\n",
            "Currently there is no vaccine that can protect the public from this particular coronavirus strain. However, there are teams of medical researchers and scientists in Canada, China and the United States that are working to develop a vaccine. According to the National Institutes of Allergy and Infectious Diseases, one organization working on developing a vaccine, it will take several months before a vaccine can advance into clinical trials. They anticipate a 2019-nCoV vaccine will not be widely available for about a year.\n",
            "\n",
            "How The 2019-nCoV Virus Is Spread\n",
            "\n",
            "Most people who have been sickened and killed by the 2019-nCoV virus have been linked to a seafood and animal market in Wuhan, China. At the Huanan seafood market it appears the virus spread from the animals to humans and led to the outbreak. The CDC has confirmed a growing number of people currently infected with the 2019-nCoV virus hadn’t been to the animal market. That means the virus has now begun to spread from person to person.\n",
            "\n",
            "The Virus Seems To Originate In Bats\n",
            "\n",
            "Researchers studying the genetic sequence of the 2019-nCoV virus found it shares 88% of its genetic sequence with two coronaviruses originating in bats. This led researchers to conclude the 2019-nCoV virus most likely came from bats. Although bats are sold markets in China and eaten, the Huanan seafood market was not selling bats at the time of the 2019-nCoV outbreak. This suggests some other type of animal sold at the market made contact with bats, became infected and passed the virus on to humans.\n",
            "\n",
            "Common In Animals, Rare In Humans\n",
            "\n",
            "Coronaviruses are commonly found in many species of animals all around the world, however, very few of them affect humans. Having coronaviruses found in animals evolve and be able to spread from an animal to humans is possible very rare. This is what took place with two coronaviruses, Middle East respiratory syndrome(MERS)and severe acute respiratory syndrome(SARS). These two coronaviruses are known to cause very severe symptoms of respiratory system problems in humans and called for comprehensive public health responses.\n",
            "\n",
            "Spreading From Person To Person\n",
            "\n",
            "It remains unclear just how easy it is for the 2019-nCoV virus to spread from one person to another and how sustainably the transmission is ongoing. According to Chinese Health Authorities, there have been two cases of suspected human-to-human transmission. The World Health Organization recently hosted a meeting to assess the outbreak’s severity. They concluded that with hundreds of people dead from the virus in Wuhan and Hubei Province, China should declare a national emergency. However, the WHO didn’t feel 2019-nCoV was a serious enough threat to declare a global health emergency at that time.\n",
            "\n",
            "Seek Medical Assistance\n",
            "\n",
            "The WHO and the CDC are not recommending any specific health measures at this time for dealing with the 2019-nCoV outbreak. They say people who have respiratory symptoms they think is related to the coronavirus should seek medical assistance and advice. They say make the healthcare facility aware of your concerns and do not return to work, school or other group activities until you are certain the cold and flu-like symptoms are not 2019-nCoV related.\n",
            "\n",
            "Distribution Of Coronavirus Cases\n",
            "\n",
            "Currently, about 20,000 people are known to have been sickened by the 2019-nCoV virus and about 410 people have died. Only about 150 of those sickened and only one of the deaths are outside of China. The lone death outside of China was a 44 year old Chinese man from Wuhan who went to a hospital in the Philippines on January 25. His symptoms included coughing, sore throat and fever. He developed severe pneumonia and died a few days later. All but 44 of the people sickened by the virus are in Asia.\n",
            "\n",
            "An Official Name For The Virus\n",
            "\n",
            "There is currently no official name for the virus. Some Chinese researchers call the disease NCIP or novel coronavirus–infected pneumonia. The World Health Organization has proposed calling the illness “2019-nCoV acute respiratory disease”. They suggested the virus be called “2019-nCoV”. The “‘n” stands for the word novel while the “CoV” stands for coronavirus. The International Committee on Taxonomy of Viruses will decide the official name of the virus.\n",
            "\n",
            "How WHO Recommends Creating A Name\n",
            "\n",
            "The World Health Organization’s Best Practices for the Naming of New Human Infectious Diseases encourages using descriptive terms like “respiratory disease”, “neurologic syndrome”, “severe” or “progressive”. It also recommends using the known pathogen in the name of the disease. The World Health Organization discourages using animals, species, classes, people, geographic locations or foods as part of the official name for any disease.\n",
            "\n",
            "Worrisome Cases And Bold Action\n",
            "\n",
            "Health officials find 2019-nCoV cases in the U.S., Germany, Japan and Vietnam worrisome because none of the patients personally visited China. They contracted the virus by coming in contact with someone who had been to Wuhan, China. The World Health Organization is paying close attention to these human to human transmission cases. The organization praised China for its bold action in isolating 50 million people in the cities of Wuhan, Huanggang and Ezhou at the center of the outbreak to stop its spread. They shut down transportation links and placed certain cities in quarantine. The WHO called China’s actions “unprecedented in public health history.”\n",
            "\n",
            "How The Virus Spreads Among People\n",
            "\n",
            "According to the Centers for Disease Control, in parts of China and other countries the virus is now spreading person-to-person. The CDC says the most common ways the virus spreads from an infected person to healthy people around them is when they cough or sneeze and release viral particles into the air and through touching, shaking hands and others forms of close personal contact. When healthy people touch objects or surfaces on which there are viral particles, then touch their eyes, nose or mouth before washing their hands, the virus can spread. In some rare cases fecal contamination can cause the virus to spread as well.\n",
            "\n",
            "Potential For Becoming A Pandemic\n",
            "\n",
            "There are three things this or any other virus must do to cause a pandemic in humans. They are:\n",
            "\n",
            "Efficiently Infect Humans Replicate In Humans Spread Easily Among Humans\n",
            "\n",
            "Currently it is unclear just how easy it is for the 2019-nCoV virus to spreads from one person to another. To determine this scientists must calculate the virus’ ‘basic reproduction number’. That’s the number of people on average who can catch the virus form one infected person. A recent New England Journal of Medicine article stated the estimated basic reproduction number for the 2019-nCoV virus is 2.2 people. That means each person that is infected has been spreading the 2019-nCoV virus to between 2 and 3 people. This means it has the potential to continue to spread unless public health measures stem the outbreak.\n",
            "\n",
            "Low Risk For The American Public\n",
            "\n",
            "According to the Centers for Disease Control, while the outbreaks of new viruses can always cause serious concern, the immediate risk of the 2019-nCoV outbreak to the American public is very low. The CDC points to the small number of people in the U.S. who are infected with the disease and the viruses limited spread in the U.S. as the primary reasons why. However, the CDC points out that the risk of an individual becoming infected “depends on exposure.” Health care workers and people who have relatives and close friends who are infected with 2019-nCoV face an increased risk of becoming infected, the CDC explained.\n",
            "\n",
            "Safe To Study Abroad\n",
            "\n",
            "None of the over 20,000 people who have become infected with the 2019-nCoV virus are students studying abroad. This has been great news to the tens of thousands of foreign students studying in China. This has helped to support the general message that it’s safe to study abroad at this time. The schools, universities and organizations through which these foreign students study work diligently to ensure they are safe and protected form contact with people infected with the virus. Students are invited to apply to participate in excellent foreign study healthcare education, admissions consulting and healthcare internship programs.\n",
            "\n",
            "A Public Health Emergency\n",
            "\n",
            "The World Health Organization declared on January 30, the 2019-nCoV virus outbreak is a public health emergency about which the international community should be concerned. The WHO said the primary reason for the declaration is their concern the virus could begin to spread to countries that have weaker healthcare systems. They compare the spread of the 2019-nCoV virus to the spread of SARS and MERS. All three have caused some people mild to severe symptoms of respiratory problems that have resulted in some deaths and the viruses can be transmitted through close contact.\n",
            "\n",
            "Coronaviruses Going From Animals To Humans\n",
            "\n",
            "In the MERS coronavirus outbreak that was first reported in Saudi Arabia in 2012, the virus was transmitted from animals to humans through touching or consuming the milk or meat from infected camels. SARS, the first cases of which were reported in Southern China in 2002, experts think was caused by bats infecting civets. Today, experts say the 2019-nCoV virus began to spread in Wuhan by people who touched or ate infected animals. MERS had a fatality rate of over 34% and SARS had a 10% fatality rate. The fatality rate for the 2019-nCoV virus is currently about 2%. The people who died were over age 60 and had preexisting conditions.\n",
            "\n",
            "Developing Innovative Treatments\n",
            "\n",
            "Healthcare experts are working hard to keep fatalities from the 2019-nCoV virus down by developing innovative new treatments. Currently, when people begin developing symptoms like coughing, fever, difficulty breathing, sore throats, bronchitis, pneumonia and other lower-respiratory tract illnesses, they turn to standard treatments. They include rest, medication, hot showers, humidifiers and drinking lot of fluids. However, U.S. National Institutes of Health researchers are developing a vaccine and experts at the National Institute of Allergy and Infectious Diseases are designing therapies to detect the virus and train immune cells to destroy it.\n",
            "\n",
            "“Level 4” Travel Advisory Issued\n",
            "\n",
            "The U.S. government has issued a ‘Level 4’ travel advisory against Americans travelling to any part of China at all. That is their highest and strongest warning level. The CDC recommends Americans cancel all of their nonessential trips to China. Almost 200 Americans were also evacuated from Wuhan, China. They will be monitored in quarantine for 14 days to see if they show signs of the infection. American who have been to other parts of China will be asked to self-quarantine for at least 14 days. In Australia, non-citizens who recently visited China are prohibited from entering the country.\n",
            "\n",
            "China Bans The Sale Of Wildlife\n",
            "\n",
            "Researchers and healthcare experts say the 2019-nCoV virus spreads from animals to humans when people touch or eat infected animals. In an attempt to protect its citizens from coming in contact with or consuming wild animals that are infected with the 2019-nCoV virus, the government of China has banned markets, restaurants and companies and individuals online from selling live or dead wildlife of any type. This is an important and helpful move because millions of people in China eat wild animals and use them in rituals and could potentially be in danger of becoming infected.\n",
            "\n",
            "How People Can Protect Themselves\n",
            "\n",
            "According to the Centers for Disease Control and Prevention, the best way people can prevent themselves from becoming infected with the 2019-nCoV virus is to avoid exposure to people or animals sickened with it. The CDC recommends people who are uncertain of whether or not the people with whom they have made contact have the respiratory viruses take certain steps to prevent getting sickened by or spreading the 2019-nCoV virus. Those steps include:\n",
            "\n",
            "Spending at least 20 seconds washing their hands as often as possible using soap and water. Make sure your hands are washed before touching the mouth, eyes or nose. When people are sick with the virus, avoid close contact with them. If you are sick with the virus, stay home. Clean and disinfect object and surfaces that are touched frequently. If traveling to China, avoid contact with dead or live animals, sick people, animal markets and animal products like uncooked meat. Seek medical care immediately if you visited China and within two weeks you have a fever, are coughing or have difficulty breathing. Before going to a medical facility, tell the staff you recently visited China.\n",
            "\n",
            "Misleading Headlines Cause Unnecessary Fear\n",
            "\n",
            "There have been some misleading headlines implying the 2019-nCov virus has a similar death rate to that of the Spanish flu. One ‘expert’ who was quoted making such a statement is Imperial College London professor Neil Ferguson. Professor Ferguson has since clarified his statement and explained he was taking about the Spanish flu’s death rate in the United Kingdom and the United States. However, frightening doomsday headlines like these can make people worry unnecessarily and create a sense of panic in the public that is counterproductive. The Spanish flu killed 50 million of the 500 million people worldwide that were infected with it for a 10% death rate.\n",
            "\n",
            "Better Healthcare Available Today\n",
            "\n",
            "When the Spanish flu infected one third of the world’s population and became known as the most devastating modern pandemic, healthcare was much different than it is today. Many important medical advancements have been made in the past 102 years. According to the Centers for Disease Control and Prevention, when the Spanish flu was spreading like wildfire, there was no influenza vaccine to prevent people from becoming infected. Today, healthcare experts are hard at work on a vaccine that can help to prevent the 2019-nVoC virus from becoming a global pandemic. A vaccine is expected to be ready within a few months.\n",
            "\n",
            "A Very High Infection Rate\n",
            "\n",
            "According to the results of an early study published in the international general medical journal The Lancet and several Chinese newspapers, early analysis of the people in China who come in contact with the 2019-nCoV virus show an infection rate of about 83%. This has some alarmed because of the potential consequences it can have for people around world. About 50% of people in China infected by the virus are from the Wuhan area. Experts warn that this is a very small study that includes only 41 people and that more time and larger studies are needed to provide accurate data.\n",
            "\n",
            "Major Knowledge Gaps\n",
            "\n",
            "There is much that remains unknown about the 2019-nCoV virus. Those knowledge gaps are in the virus’ origin, epidemiology, clinical spectrum of the disease and duration of human transmission. Infected people tend to develop difficulty breathing within 5 to 8 days of infection and about 12% of patients suffer acute cardiac injury and permanent heart damage. The WHO and CDC are sending teams of researchers into China to fill those knowledge gaps and gather information that will help to lead to better infection prevention and treatment methods. At this point, gathering accurate information is essential.\n",
            "\n",
            "Special Hospitals Being Rapidly Built\n",
            "\n",
            "In just 10 days, an army of 7,000 carpenters, electricians, plumbers and other specialists constructed a hospital with room for 1,000 beds on the outskirts of Wuhan, China to treat people infected with the 2019-nCoV virus. Called Huoshenshan Hospital, the 25,000-square-meter facility was built using prefabricated wards and is reportedly equipped with medical equipment as well as ventilation systems that are state-of-the-art. With People’s Liberation Army medical teams staffing the facility, the hospital has already started treating patients. A second 1,500 bed facility called Leishenshan Hospital being built nearby is scheduled to open within days. Health experts believe the additional hospital space is important to stopping the virus from spreading.\n",
            "\n",
            "Virus Protection In East Africa\n",
            "\n",
            "Kenya and other countries in East Africa have a very close relationship with China. There are even people from East Africa working in and around Wuhan, the epicenter of the 2019-nCoV virus outbreak. To prevent the virus from making its way into East Africa, daily flights to and from China have been largely halted. Travelers from China are screened at the airports and quarantined. Africa CDC, the Ethiopian Public Health Institute, NCDC and other strong, experienced, African healthcare institutions are working hard to protect the masses. Sharing accurate information has helped keep people safe.\n"
          ],
          "name": "stdout"
        }
      ]
    },
    {
      "cell_type": "code",
      "metadata": {
        "id": "dNkVpAIvN2nS",
        "outputId": "6d5cb720-6942-4ba3-bf87-e30c709287fb",
        "colab": {
          "base_uri": "https://localhost:8080/",
          "height": 54
        }
      },
      "source": [
        "text = corpus\n",
        "sent_tokens = nltk.sent_tokenize(text)\n",
        "\n",
        "print(sent_tokens)"
      ],
      "execution_count": null,
      "outputs": [
        {
          "output_type": "stream",
          "text": [
            "['The 2019 novel coronavirus has the potential to be a global pandemic.', 'Health officials say it originated in a market in Wuhan, China that sold live and dead wild animals that people ate for food, improved health and vitality and a number of other purposes.', 'The virus has now been detected in Australia, Canada, Finland, France, India, Italy, Japan, Nepal, Russia, Singapore, Spain, Taiwan, Thailand, Vietnam, the United States and over a dozen other countries.', 'Health Officials Being Proactive\\n\\nThe good news is health officials around the world are being proactive in working to stop the virus from spreading.', 'They have identified and broadcast the symptoms of the illness and have begun to quarantine people with the illness to prevent them from passing it on to others.', 'Beginning Sunday, February 2, American citizens, permanent residents, as well as their immediate family members who have been to China’s Hubei province recently or had contact with people who had, must undergo a two-week mandatory quarantine period to ensure they are not infected with the 2019-nCOV virus.', 'A Two Week Incubation Period\\n\\nOne of the issues that has contributed to the spread of what health officials are calling the 2019-nCOV virus is its two week incubation period.', 'During this time, a person may have the virus, display no symptoms of it, but can still spread it to others.', 'This makes it difficult for people to know who has the virus and when they should take actions to protect themselves from becoming infected.', 'This has created an extra sense of concern that the virus could quietly continue to spread.', 'Symptoms Of The Illness\\n\\nPeople infected with the 2019 novel coronavirus begin to experience mild cold or flu-like symptoms in two to four days.', 'Although the symptoms can vary from one person to the next, they typically include sneezing, coughing, runny nose, fatigue, sore throat and fever.', 'Wash Hands Regularly\\n\\nAccording to healthcare experts one of the simplest things people can do to protect themselves from the 2019-nCoV virus is to wash their hands regularly with soap and water after making contact with people who could potentially have it.', 'They recommend washing hands for at least 20 seconds before touching your eyes, nose, mouth or food.', 'Treating The Virus\\n\\nCurrently there’s no cure for the 2019-nCOV virus.', 'Common treatments that have proven to be somewhat effective in controlling the symptoms include taking over-the-counter medication, drinking lots of water, getting adequate rest, avoiding overexertion, not smoking, staying away from smoky areas and using clean mist vaporizers or humidifiers.', 'Taking medications like acetaminophen, ibuprofen and naproxen can help to reduce the pain and fever associated with the illness.', 'What Are Coronaviruses\\n\\nCoronaviruses are a group of viruses which typically tend to affect human and other mammal’s respiratory tract and their guts.', 'The viruses are closely associated with infections like pneumonia, the common cold and conditions like severe acute respiratory syndrome(SARS) and Middle East Respiratory Syndrome(MERS).', 'Origin Of The Coronavirus\\n\\nIn 1937, coronaviruses were first identified as an infectious bronchitis virus with which birds suffered that could devastate poultry stocks.', 'Today, the viruses are the cause of the common cold in 15% to 30% of all cases.', 'In the past 70 years, researchers have found camels, cattle, cats, dogs, horses, mice, pigs, rats and turkeys that were infected with coronaviruses.', 'Number Of Confirmed Cases\\n\\nAccording to research done by Johns Hopkins University, there are more than 20,000 confirmed coronavirus cases related to the current outbreak.', 'However, although there are a few cases in about two dozen or more countries worldwide, the overwhelming majority of people who have been sickened and all but one who has been killed by the virus are in the city of Wuhan, China.', 'Students who study abroad in other parts of China have not been affected by the virus.', 'Travel Restrictions\\n\\nPeople who live or work in Wuhan, China have been quarantined in place and restricted from traveling outside the city.', 'Residents of other cities in Hubei Province, in which Wuhan is located, have also been restricted from leaving and travelling to other parts of China or abroad.', 'Taiwan and Hong Kong have restricted people from Hubei Province from entering the countries.', 'The Centers for Disease Control And Prevention strongly recommends Americans avoid nonessential travel to China.', 'Canceled Flights And Airport Screening\\n\\nTo reduce the risk of the 2019-nCoV virus spreading outside Wuhan, China and Hubei Province, airlines have canceled all flights into the area.', 'More than 20 major U.S. airports are conducting screenings of passengers travelling from China to check for 2019-nCoV virus symptoms, CDC officials announced on January, 28, 2020.', 'Thailand, Japan, South Korea, India, the United Kingdom, Russia, Bangladesh, Malaysia, Italy, Nigeria, Singapore, China and many other countries are also screening passengers at their airports who may have had contact with infected people.', 'Work On A Vaccine\\n\\nCurrently there is no vaccine that can protect the public from this particular coronavirus strain.', 'However, there are teams of medical researchers and scientists in Canada, China and the United States that are working to develop a vaccine.', 'According to the National Institutes of Allergy and Infectious Diseases, one organization working on developing a vaccine, it will take several months before a vaccine can advance into clinical trials.', 'They anticipate a 2019-nCoV vaccine will not be widely available for about a year.', 'How The 2019-nCoV Virus Is Spread\\n\\nMost people who have been sickened and killed by the 2019-nCoV virus have been linked to a seafood and animal market in Wuhan, China.', 'At the Huanan seafood market it appears the virus spread from the animals to humans and led to the outbreak.', 'The CDC has confirmed a growing number of people currently infected with the 2019-nCoV virus hadn’t been to the animal market.', 'That means the virus has now begun to spread from person to person.', 'The Virus Seems To Originate In Bats\\n\\nResearchers studying the genetic sequence of the 2019-nCoV virus found it shares 88% of its genetic sequence with two coronaviruses originating in bats.', 'This led researchers to conclude the 2019-nCoV virus most likely came from bats.', 'Although bats are sold markets in China and eaten, the Huanan seafood market was not selling bats at the time of the 2019-nCoV outbreak.', 'This suggests some other type of animal sold at the market made contact with bats, became infected and passed the virus on to humans.', 'Common In Animals, Rare In Humans\\n\\nCoronaviruses are commonly found in many species of animals all around the world, however, very few of them affect humans.', 'Having coronaviruses found in animals evolve and be able to spread from an animal to humans is possible very rare.', 'This is what took place with two coronaviruses, Middle East respiratory syndrome(MERS)and severe acute respiratory syndrome(SARS).', 'These two coronaviruses are known to cause very severe symptoms of respiratory system problems in humans and called for comprehensive public health responses.', 'Spreading From Person To Person\\n\\nIt remains unclear just how easy it is for the 2019-nCoV virus to spread from one person to another and how sustainably the transmission is ongoing.', 'According to Chinese Health Authorities, there have been two cases of suspected human-to-human transmission.', 'The World Health Organization recently hosted a meeting to assess the outbreak’s severity.', 'They concluded that with hundreds of people dead from the virus in Wuhan and Hubei Province, China should declare a national emergency.', 'However, the WHO didn’t feel 2019-nCoV was a serious enough threat to declare a global health emergency at that time.', 'Seek Medical Assistance\\n\\nThe WHO and the CDC are not recommending any specific health measures at this time for dealing with the 2019-nCoV outbreak.', 'They say people who have respiratory symptoms they think is related to the coronavirus should seek medical assistance and advice.', 'They say make the healthcare facility aware of your concerns and do not return to work, school or other group activities until you are certain the cold and flu-like symptoms are not 2019-nCoV related.', 'Distribution Of Coronavirus Cases\\n\\nCurrently, about 20,000 people are known to have been sickened by the 2019-nCoV virus and about 410 people have died.', 'Only about 150 of those sickened and only one of the deaths are outside of China.', 'The lone death outside of China was a 44 year old Chinese man from Wuhan who went to a hospital in the Philippines on January 25.', 'His symptoms included coughing, sore throat and fever.', 'He developed severe pneumonia and died a few days later.', 'All but 44 of the people sickened by the virus are in Asia.', 'An Official Name For The Virus\\n\\nThere is currently no official name for the virus.', 'Some Chinese researchers call the disease NCIP or novel coronavirus–infected pneumonia.', 'The World Health Organization has proposed calling the illness “2019-nCoV acute respiratory disease”.', 'They suggested the virus be called “2019-nCoV”.', 'The “‘n” stands for the word novel while the “CoV” stands for coronavirus.', 'The International Committee on Taxonomy of Viruses will decide the official name of the virus.', 'How WHO Recommends Creating A Name\\n\\nThe World Health Organization’s Best Practices for the Naming of New Human Infectious Diseases encourages using descriptive terms like “respiratory disease”, “neurologic syndrome”, “severe” or “progressive”.', 'It also recommends using the known pathogen in the name of the disease.', 'The World Health Organization discourages using animals, species, classes, people, geographic locations or foods as part of the official name for any disease.', 'Worrisome Cases And Bold Action\\n\\nHealth officials find 2019-nCoV cases in the U.S., Germany, Japan and Vietnam worrisome because none of the patients personally visited China.', 'They contracted the virus by coming in contact with someone who had been to Wuhan, China.', 'The World Health Organization is paying close attention to these human to human transmission cases.', 'The organization praised China for its bold action in isolating 50 million people in the cities of Wuhan, Huanggang and Ezhou at the center of the outbreak to stop its spread.', 'They shut down transportation links and placed certain cities in quarantine.', 'The WHO called China’s actions “unprecedented in public health history.”\\n\\nHow The Virus Spreads Among People\\n\\nAccording to the Centers for Disease Control, in parts of China and other countries the virus is now spreading person-to-person.', 'The CDC says the most common ways the virus spreads from an infected person to healthy people around them is when they cough or sneeze and release viral particles into the air and through touching, shaking hands and others forms of close personal contact.', 'When healthy people touch objects or surfaces on which there are viral particles, then touch their eyes, nose or mouth before washing their hands, the virus can spread.', 'In some rare cases fecal contamination can cause the virus to spread as well.', 'Potential For Becoming A Pandemic\\n\\nThere are three things this or any other virus must do to cause a pandemic in humans.', 'They are:\\n\\nEfficiently Infect Humans Replicate In Humans Spread Easily Among Humans\\n\\nCurrently it is unclear just how easy it is for the 2019-nCoV virus to spreads from one person to another.', 'To determine this scientists must calculate the virus’ ‘basic reproduction number’.', 'That’s the number of people on average who can catch the virus form one infected person.', 'A recent New England Journal of Medicine article stated the estimated basic reproduction number for the 2019-nCoV virus is 2.2 people.', 'That means each person that is infected has been spreading the 2019-nCoV virus to between 2 and 3 people.', 'This means it has the potential to continue to spread unless public health measures stem the outbreak.', 'Low Risk For The American Public\\n\\nAccording to the Centers for Disease Control, while the outbreaks of new viruses can always cause serious concern, the immediate risk of the 2019-nCoV outbreak to the American public is very low.', 'The CDC points to the small number of people in the U.S. who are infected with the disease and the viruses limited spread in the U.S. as the primary reasons why.', 'However, the CDC points out that the risk of an individual becoming infected “depends on exposure.” Health care workers and people who have relatives and close friends who are infected with 2019-nCoV face an increased risk of becoming infected, the CDC explained.', 'Safe To Study Abroad\\n\\nNone of the over 20,000 people who have become infected with the 2019-nCoV virus are students studying abroad.', 'This has been great news to the tens of thousands of foreign students studying in China.', 'This has helped to support the general message that it’s safe to study abroad at this time.', 'The schools, universities and organizations through which these foreign students study work diligently to ensure they are safe and protected form contact with people infected with the virus.', 'Students are invited to apply to participate in excellent foreign study healthcare education, admissions consulting and healthcare internship programs.', 'A Public Health Emergency\\n\\nThe World Health Organization declared on January 30, the 2019-nCoV virus outbreak is a public health emergency about which the international community should be concerned.', 'The WHO said the primary reason for the declaration is their concern the virus could begin to spread to countries that have weaker healthcare systems.', 'They compare the spread of the 2019-nCoV virus to the spread of SARS and MERS.', 'All three have caused some people mild to severe symptoms of respiratory problems that have resulted in some deaths and the viruses can be transmitted through close contact.', 'Coronaviruses Going From Animals To Humans\\n\\nIn the MERS coronavirus outbreak that was first reported in Saudi Arabia in 2012, the virus was transmitted from animals to humans through touching or consuming the milk or meat from infected camels.', 'SARS, the first cases of which were reported in Southern China in 2002, experts think was caused by bats infecting civets.', 'Today, experts say the 2019-nCoV virus began to spread in Wuhan by people who touched or ate infected animals.', 'MERS had a fatality rate of over 34% and SARS had a 10% fatality rate.', 'The fatality rate for the 2019-nCoV virus is currently about 2%.', 'The people who died were over age 60 and had preexisting conditions.', 'Developing Innovative Treatments\\n\\nHealthcare experts are working hard to keep fatalities from the 2019-nCoV virus down by developing innovative new treatments.', 'Currently, when people begin developing symptoms like coughing, fever, difficulty breathing, sore throats, bronchitis, pneumonia and other lower-respiratory tract illnesses, they turn to standard treatments.', 'They include rest, medication, hot showers, humidifiers and drinking lot of fluids.', 'However, U.S. National Institutes of Health researchers are developing a vaccine and experts at the National Institute of Allergy and Infectious Diseases are designing therapies to detect the virus and train immune cells to destroy it.', '“Level 4” Travel Advisory Issued\\n\\nThe U.S. government has issued a ‘Level 4’ travel advisory against Americans travelling to any part of China at all.', 'That is their highest and strongest warning level.', 'The CDC recommends Americans cancel all of their nonessential trips to China.', 'Almost 200 Americans were also evacuated from Wuhan, China.', 'They will be monitored in quarantine for 14 days to see if they show signs of the infection.', 'American who have been to other parts of China will be asked to self-quarantine for at least 14 days.', 'In Australia, non-citizens who recently visited China are prohibited from entering the country.', 'China Bans The Sale Of Wildlife\\n\\nResearchers and healthcare experts say the 2019-nCoV virus spreads from animals to humans when people touch or eat infected animals.', 'In an attempt to protect its citizens from coming in contact with or consuming wild animals that are infected with the 2019-nCoV virus, the government of China has banned markets, restaurants and companies and individuals online from selling live or dead wildlife of any type.', 'This is an important and helpful move because millions of people in China eat wild animals and use them in rituals and could potentially be in danger of becoming infected.', 'How People Can Protect Themselves\\n\\nAccording to the Centers for Disease Control and Prevention, the best way people can prevent themselves from becoming infected with the 2019-nCoV virus is to avoid exposure to people or animals sickened with it.', 'The CDC recommends people who are uncertain of whether or not the people with whom they have made contact have the respiratory viruses take certain steps to prevent getting sickened by or spreading the 2019-nCoV virus.', 'Those steps include:\\n\\nSpending at least 20 seconds washing their hands as often as possible using soap and water.', 'Make sure your hands are washed before touching the mouth, eyes or nose.', 'When people are sick with the virus, avoid close contact with them.', 'If you are sick with the virus, stay home.', 'Clean and disinfect object and surfaces that are touched frequently.', 'If traveling to China, avoid contact with dead or live animals, sick people, animal markets and animal products like uncooked meat.', 'Seek medical care immediately if you visited China and within two weeks you have a fever, are coughing or have difficulty breathing.', 'Before going to a medical facility, tell the staff you recently visited China.', 'Misleading Headlines Cause Unnecessary Fear\\n\\nThere have been some misleading headlines implying the 2019-nCov virus has a similar death rate to that of the Spanish flu.', 'One ‘expert’ who was quoted making such a statement is Imperial College London professor Neil Ferguson.', 'Professor Ferguson has since clarified his statement and explained he was taking about the Spanish flu’s death rate in the United Kingdom and the United States.', 'However, frightening doomsday headlines like these can make people worry unnecessarily and create a sense of panic in the public that is counterproductive.', 'The Spanish flu killed 50 million of the 500 million people worldwide that were infected with it for a 10% death rate.', 'Better Healthcare Available Today\\n\\nWhen the Spanish flu infected one third of the world’s population and became known as the most devastating modern pandemic, healthcare was much different than it is today.', 'Many important medical advancements have been made in the past 102 years.', 'According to the Centers for Disease Control and Prevention, when the Spanish flu was spreading like wildfire, there was no influenza vaccine to prevent people from becoming infected.', 'Today, healthcare experts are hard at work on a vaccine that can help to prevent the 2019-nVoC virus from becoming a global pandemic.', 'A vaccine is expected to be ready within a few months.', 'A Very High Infection Rate\\n\\nAccording to the results of an early study published in the international general medical journal The Lancet and several Chinese newspapers, early analysis of the people in China who come in contact with the 2019-nCoV virus show an infection rate of about 83%.', 'This has some alarmed because of the potential consequences it can have for people around world.', 'About 50% of people in China infected by the virus are from the Wuhan area.', 'Experts warn that this is a very small study that includes only 41 people and that more time and larger studies are needed to provide accurate data.', 'Major Knowledge Gaps\\n\\nThere is much that remains unknown about the 2019-nCoV virus.', 'Those knowledge gaps are in the virus’ origin, epidemiology, clinical spectrum of the disease and duration of human transmission.', 'Infected people tend to develop difficulty breathing within 5 to 8 days of infection and about 12% of patients suffer acute cardiac injury and permanent heart damage.', 'The WHO and CDC are sending teams of researchers into China to fill those knowledge gaps and gather information that will help to lead to better infection prevention and treatment methods.', 'At this point, gathering accurate information is essential.', 'Special Hospitals Being Rapidly Built\\n\\nIn just 10 days, an army of 7,000 carpenters, electricians, plumbers and other specialists constructed a hospital with room for 1,000 beds on the outskirts of Wuhan, China to treat people infected with the 2019-nCoV virus.', 'Called Huoshenshan Hospital, the 25,000-square-meter facility was built using prefabricated wards and is reportedly equipped with medical equipment as well as ventilation systems that are state-of-the-art.', 'With People’s Liberation Army medical teams staffing the facility, the hospital has already started treating patients.', 'A second 1,500 bed facility called Leishenshan Hospital being built nearby is scheduled to open within days.', 'Health experts believe the additional hospital space is important to stopping the virus from spreading.', 'Virus Protection In East Africa\\n\\nKenya and other countries in East Africa have a very close relationship with China.', 'There are even people from East Africa working in and around Wuhan, the epicenter of the 2019-nCoV virus outbreak.', 'To prevent the virus from making its way into East Africa, daily flights to and from China have been largely halted.', 'Travelers from China are screened at the airports and quarantined.', 'Africa CDC, the Ethiopian Public Health Institute, NCDC and other strong, experienced, African healthcare institutions are working hard to protect the masses.', 'Sharing accurate information has helped keep people safe.']\n"
          ],
          "name": "stdout"
        }
      ]
    },
    {
      "cell_type": "code",
      "metadata": {
        "id": "PkCnatG1N8lG",
        "outputId": "d214d935-3e48-47c9-ed88-44b77f907869",
        "colab": {
          "base_uri": "https://localhost:8080/",
          "height": 71
        }
      },
      "source": [
        "remove_punct_dict = dict(  ( ord(punct),None) for punct in string.punctuation)\n",
        "\n",
        "print(string.punctuation)\n",
        "\n",
        "print(remove_punct_dict)"
      ],
      "execution_count": null,
      "outputs": [
        {
          "output_type": "stream",
          "text": [
            "!\"#$%&'()*+,-./:;<=>?@[\\]^_`{|}~\n",
            "{33: None, 34: None, 35: None, 36: None, 37: None, 38: None, 39: None, 40: None, 41: None, 42: None, 43: None, 44: None, 45: None, 46: None, 47: None, 58: None, 59: None, 60: None, 61: None, 62: None, 63: None, 64: None, 91: None, 92: None, 93: None, 94: None, 95: None, 96: None, 123: None, 124: None, 125: None, 126: None}\n"
          ],
          "name": "stdout"
        }
      ]
    },
    {
      "cell_type": "code",
      "metadata": {
        "id": "SVO-DafROHnn",
        "outputId": "f58bcf0d-ef3c-427c-a6e9-9cf195564dba",
        "colab": {
          "base_uri": "https://localhost:8080/",
          "height": 54
        }
      },
      "source": [
        "def LemNormalize(text):\n",
        "  return nltk.word_tokenize(text.lower().translate(remove_punct_dict))\n",
        "\n",
        "print(LemNormalize(text))"
      ],
      "execution_count": null,
      "outputs": [
        {
          "output_type": "stream",
          "text": [
            "['the', '2019', 'novel', 'coronavirus', 'has', 'the', 'potential', 'to', 'be', 'a', 'global', 'pandemic', 'health', 'officials', 'say', 'it', 'originated', 'in', 'a', 'market', 'in', 'wuhan', 'china', 'that', 'sold', 'live', 'and', 'dead', 'wild', 'animals', 'that', 'people', 'ate', 'for', 'food', 'improved', 'health', 'and', 'vitality', 'and', 'a', 'number', 'of', 'other', 'purposes', 'the', 'virus', 'has', 'now', 'been', 'detected', 'in', 'australia', 'canada', 'finland', 'france', 'india', 'italy', 'japan', 'nepal', 'russia', 'singapore', 'spain', 'taiwan', 'thailand', 'vietnam', 'the', 'united', 'states', 'and', 'over', 'a', 'dozen', 'other', 'countries', 'health', 'officials', 'being', 'proactive', 'the', 'good', 'news', 'is', 'health', 'officials', 'around', 'the', 'world', 'are', 'being', 'proactive', 'in', 'working', 'to', 'stop', 'the', 'virus', 'from', 'spreading', 'they', 'have', 'identified', 'and', 'broadcast', 'the', 'symptoms', 'of', 'the', 'illness', 'and', 'have', 'begun', 'to', 'quarantine', 'people', 'with', 'the', 'illness', 'to', 'prevent', 'them', 'from', 'passing', 'it', 'on', 'to', 'others', 'beginning', 'sunday', 'february', '2', 'american', 'citizens', 'permanent', 'residents', 'as', 'well', 'as', 'their', 'immediate', 'family', 'members', 'who', 'have', 'been', 'to', 'china', '’', 's', 'hubei', 'province', 'recently', 'or', 'had', 'contact', 'with', 'people', 'who', 'had', 'must', 'undergo', 'a', 'twoweek', 'mandatory', 'quarantine', 'period', 'to', 'ensure', 'they', 'are', 'not', 'infected', 'with', 'the', '2019ncov', 'virus', 'a', 'two', 'week', 'incubation', 'period', 'one', 'of', 'the', 'issues', 'that', 'has', 'contributed', 'to', 'the', 'spread', 'of', 'what', 'health', 'officials', 'are', 'calling', 'the', '2019ncov', 'virus', 'is', 'its', 'two', 'week', 'incubation', 'period', 'during', 'this', 'time', 'a', 'person', 'may', 'have', 'the', 'virus', 'display', 'no', 'symptoms', 'of', 'it', 'but', 'can', 'still', 'spread', 'it', 'to', 'others', 'this', 'makes', 'it', 'difficult', 'for', 'people', 'to', 'know', 'who', 'has', 'the', 'virus', 'and', 'when', 'they', 'should', 'take', 'actions', 'to', 'protect', 'themselves', 'from', 'becoming', 'infected', 'this', 'has', 'created', 'an', 'extra', 'sense', 'of', 'concern', 'that', 'the', 'virus', 'could', 'quietly', 'continue', 'to', 'spread', 'symptoms', 'of', 'the', 'illness', 'people', 'infected', 'with', 'the', '2019', 'novel', 'coronavirus', 'begin', 'to', 'experience', 'mild', 'cold', 'or', 'flulike', 'symptoms', 'in', 'two', 'to', 'four', 'days', 'although', 'the', 'symptoms', 'can', 'vary', 'from', 'one', 'person', 'to', 'the', 'next', 'they', 'typically', 'include', 'sneezing', 'coughing', 'runny', 'nose', 'fatigue', 'sore', 'throat', 'and', 'fever', 'wash', 'hands', 'regularly', 'according', 'to', 'healthcare', 'experts', 'one', 'of', 'the', 'simplest', 'things', 'people', 'can', 'do', 'to', 'protect', 'themselves', 'from', 'the', '2019ncov', 'virus', 'is', 'to', 'wash', 'their', 'hands', 'regularly', 'with', 'soap', 'and', 'water', 'after', 'making', 'contact', 'with', 'people', 'who', 'could', 'potentially', 'have', 'it', 'they', 'recommend', 'washing', 'hands', 'for', 'at', 'least', '20', 'seconds', 'before', 'touching', 'your', 'eyes', 'nose', 'mouth', 'or', 'food', 'treating', 'the', 'virus', 'currently', 'there', '’', 's', 'no', 'cure', 'for', 'the', '2019ncov', 'virus', 'common', 'treatments', 'that', 'have', 'proven', 'to', 'be', 'somewhat', 'effective', 'in', 'controlling', 'the', 'symptoms', 'include', 'taking', 'overthecounter', 'medication', 'drinking', 'lots', 'of', 'water', 'getting', 'adequate', 'rest', 'avoiding', 'overexertion', 'not', 'smoking', 'staying', 'away', 'from', 'smoky', 'areas', 'and', 'using', 'clean', 'mist', 'vaporizers', 'or', 'humidifiers', 'taking', 'medications', 'like', 'acetaminophen', 'ibuprofen', 'and', 'naproxen', 'can', 'help', 'to', 'reduce', 'the', 'pain', 'and', 'fever', 'associated', 'with', 'the', 'illness', 'what', 'are', 'coronaviruses', 'coronaviruses', 'are', 'a', 'group', 'of', 'viruses', 'which', 'typically', 'tend', 'to', 'affect', 'human', 'and', 'other', 'mammal', '’', 's', 'respiratory', 'tract', 'and', 'their', 'guts', 'the', 'viruses', 'are', 'closely', 'associated', 'with', 'infections', 'like', 'pneumonia', 'the', 'common', 'cold', 'and', 'conditions', 'like', 'severe', 'acute', 'respiratory', 'syndromesars', 'and', 'middle', 'east', 'respiratory', 'syndromemers', 'origin', 'of', 'the', 'coronavirus', 'in', '1937', 'coronaviruses', 'were', 'first', 'identified', 'as', 'an', 'infectious', 'bronchitis', 'virus', 'with', 'which', 'birds', 'suffered', 'that', 'could', 'devastate', 'poultry', 'stocks', 'today', 'the', 'viruses', 'are', 'the', 'cause', 'of', 'the', 'common', 'cold', 'in', '15', 'to', '30', 'of', 'all', 'cases', 'in', 'the', 'past', '70', 'years', 'researchers', 'have', 'found', 'camels', 'cattle', 'cats', 'dogs', 'horses', 'mice', 'pigs', 'rats', 'and', 'turkeys', 'that', 'were', 'infected', 'with', 'coronaviruses', 'number', 'of', 'confirmed', 'cases', 'according', 'to', 'research', 'done', 'by', 'johns', 'hopkins', 'university', 'there', 'are', 'more', 'than', '20000', 'confirmed', 'coronavirus', 'cases', 'related', 'to', 'the', 'current', 'outbreak', 'however', 'although', 'there', 'are', 'a', 'few', 'cases', 'in', 'about', 'two', 'dozen', 'or', 'more', 'countries', 'worldwide', 'the', 'overwhelming', 'majority', 'of', 'people', 'who', 'have', 'been', 'sickened', 'and', 'all', 'but', 'one', 'who', 'has', 'been', 'killed', 'by', 'the', 'virus', 'are', 'in', 'the', 'city', 'of', 'wuhan', 'china', 'students', 'who', 'study', 'abroad', 'in', 'other', 'parts', 'of', 'china', 'have', 'not', 'been', 'affected', 'by', 'the', 'virus', 'travel', 'restrictions', 'people', 'who', 'live', 'or', 'work', 'in', 'wuhan', 'china', 'have', 'been', 'quarantined', 'in', 'place', 'and', 'restricted', 'from', 'traveling', 'outside', 'the', 'city', 'residents', 'of', 'other', 'cities', 'in', 'hubei', 'province', 'in', 'which', 'wuhan', 'is', 'located', 'have', 'also', 'been', 'restricted', 'from', 'leaving', 'and', 'travelling', 'to', 'other', 'parts', 'of', 'china', 'or', 'abroad', 'taiwan', 'and', 'hong', 'kong', 'have', 'restricted', 'people', 'from', 'hubei', 'province', 'from', 'entering', 'the', 'countries', 'the', 'centers', 'for', 'disease', 'control', 'and', 'prevention', 'strongly', 'recommends', 'americans', 'avoid', 'nonessential', 'travel', 'to', 'china', 'canceled', 'flights', 'and', 'airport', 'screening', 'to', 'reduce', 'the', 'risk', 'of', 'the', '2019ncov', 'virus', 'spreading', 'outside', 'wuhan', 'china', 'and', 'hubei', 'province', 'airlines', 'have', 'canceled', 'all', 'flights', 'into', 'the', 'area', 'more', 'than', '20', 'major', 'us', 'airports', 'are', 'conducting', 'screenings', 'of', 'passengers', 'travelling', 'from', 'china', 'to', 'check', 'for', '2019ncov', 'virus', 'symptoms', 'cdc', 'officials', 'announced', 'on', 'january', '28', '2020', 'thailand', 'japan', 'south', 'korea', 'india', 'the', 'united', 'kingdom', 'russia', 'bangladesh', 'malaysia', 'italy', 'nigeria', 'singapore', 'china', 'and', 'many', 'other', 'countries', 'are', 'also', 'screening', 'passengers', 'at', 'their', 'airports', 'who', 'may', 'have', 'had', 'contact', 'with', 'infected', 'people', 'work', 'on', 'a', 'vaccine', 'currently', 'there', 'is', 'no', 'vaccine', 'that', 'can', 'protect', 'the', 'public', 'from', 'this', 'particular', 'coronavirus', 'strain', 'however', 'there', 'are', 'teams', 'of', 'medical', 'researchers', 'and', 'scientists', 'in', 'canada', 'china', 'and', 'the', 'united', 'states', 'that', 'are', 'working', 'to', 'develop', 'a', 'vaccine', 'according', 'to', 'the', 'national', 'institutes', 'of', 'allergy', 'and', 'infectious', 'diseases', 'one', 'organization', 'working', 'on', 'developing', 'a', 'vaccine', 'it', 'will', 'take', 'several', 'months', 'before', 'a', 'vaccine', 'can', 'advance', 'into', 'clinical', 'trials', 'they', 'anticipate', 'a', '2019ncov', 'vaccine', 'will', 'not', 'be', 'widely', 'available', 'for', 'about', 'a', 'year', 'how', 'the', '2019ncov', 'virus', 'is', 'spread', 'most', 'people', 'who', 'have', 'been', 'sickened', 'and', 'killed', 'by', 'the', '2019ncov', 'virus', 'have', 'been', 'linked', 'to', 'a', 'seafood', 'and', 'animal', 'market', 'in', 'wuhan', 'china', 'at', 'the', 'huanan', 'seafood', 'market', 'it', 'appears', 'the', 'virus', 'spread', 'from', 'the', 'animals', 'to', 'humans', 'and', 'led', 'to', 'the', 'outbreak', 'the', 'cdc', 'has', 'confirmed', 'a', 'growing', 'number', 'of', 'people', 'currently', 'infected', 'with', 'the', '2019ncov', 'virus', 'hadn', '’', 't', 'been', 'to', 'the', 'animal', 'market', 'that', 'means', 'the', 'virus', 'has', 'now', 'begun', 'to', 'spread', 'from', 'person', 'to', 'person', 'the', 'virus', 'seems', 'to', 'originate', 'in', 'bats', 'researchers', 'studying', 'the', 'genetic', 'sequence', 'of', 'the', '2019ncov', 'virus', 'found', 'it', 'shares', '88', 'of', 'its', 'genetic', 'sequence', 'with', 'two', 'coronaviruses', 'originating', 'in', 'bats', 'this', 'led', 'researchers', 'to', 'conclude', 'the', '2019ncov', 'virus', 'most', 'likely', 'came', 'from', 'bats', 'although', 'bats', 'are', 'sold', 'markets', 'in', 'china', 'and', 'eaten', 'the', 'huanan', 'seafood', 'market', 'was', 'not', 'selling', 'bats', 'at', 'the', 'time', 'of', 'the', '2019ncov', 'outbreak', 'this', 'suggests', 'some', 'other', 'type', 'of', 'animal', 'sold', 'at', 'the', 'market', 'made', 'contact', 'with', 'bats', 'became', 'infected', 'and', 'passed', 'the', 'virus', 'on', 'to', 'humans', 'common', 'in', 'animals', 'rare', 'in', 'humans', 'coronaviruses', 'are', 'commonly', 'found', 'in', 'many', 'species', 'of', 'animals', 'all', 'around', 'the', 'world', 'however', 'very', 'few', 'of', 'them', 'affect', 'humans', 'having', 'coronaviruses', 'found', 'in', 'animals', 'evolve', 'and', 'be', 'able', 'to', 'spread', 'from', 'an', 'animal', 'to', 'humans', 'is', 'possible', 'very', 'rare', 'this', 'is', 'what', 'took', 'place', 'with', 'two', 'coronaviruses', 'middle', 'east', 'respiratory', 'syndromemersand', 'severe', 'acute', 'respiratory', 'syndromesars', 'these', 'two', 'coronaviruses', 'are', 'known', 'to', 'cause', 'very', 'severe', 'symptoms', 'of', 'respiratory', 'system', 'problems', 'in', 'humans', 'and', 'called', 'for', 'comprehensive', 'public', 'health', 'responses', 'spreading', 'from', 'person', 'to', 'person', 'it', 'remains', 'unclear', 'just', 'how', 'easy', 'it', 'is', 'for', 'the', '2019ncov', 'virus', 'to', 'spread', 'from', 'one', 'person', 'to', 'another', 'and', 'how', 'sustainably', 'the', 'transmission', 'is', 'ongoing', 'according', 'to', 'chinese', 'health', 'authorities', 'there', 'have', 'been', 'two', 'cases', 'of', 'suspected', 'humantohuman', 'transmission', 'the', 'world', 'health', 'organization', 'recently', 'hosted', 'a', 'meeting', 'to', 'assess', 'the', 'outbreak', '’', 's', 'severity', 'they', 'concluded', 'that', 'with', 'hundreds', 'of', 'people', 'dead', 'from', 'the', 'virus', 'in', 'wuhan', 'and', 'hubei', 'province', 'china', 'should', 'declare', 'a', 'national', 'emergency', 'however', 'the', 'who', 'didn', '’', 't', 'feel', '2019ncov', 'was', 'a', 'serious', 'enough', 'threat', 'to', 'declare', 'a', 'global', 'health', 'emergency', 'at', 'that', 'time', 'seek', 'medical', 'assistance', 'the', 'who', 'and', 'the', 'cdc', 'are', 'not', 'recommending', 'any', 'specific', 'health', 'measures', 'at', 'this', 'time', 'for', 'dealing', 'with', 'the', '2019ncov', 'outbreak', 'they', 'say', 'people', 'who', 'have', 'respiratory', 'symptoms', 'they', 'think', 'is', 'related', 'to', 'the', 'coronavirus', 'should', 'seek', 'medical', 'assistance', 'and', 'advice', 'they', 'say', 'make', 'the', 'healthcare', 'facility', 'aware', 'of', 'your', 'concerns', 'and', 'do', 'not', 'return', 'to', 'work', 'school', 'or', 'other', 'group', 'activities', 'until', 'you', 'are', 'certain', 'the', 'cold', 'and', 'flulike', 'symptoms', 'are', 'not', '2019ncov', 'related', 'distribution', 'of', 'coronavirus', 'cases', 'currently', 'about', '20000', 'people', 'are', 'known', 'to', 'have', 'been', 'sickened', 'by', 'the', '2019ncov', 'virus', 'and', 'about', '410', 'people', 'have', 'died', 'only', 'about', '150', 'of', 'those', 'sickened', 'and', 'only', 'one', 'of', 'the', 'deaths', 'are', 'outside', 'of', 'china', 'the', 'lone', 'death', 'outside', 'of', 'china', 'was', 'a', '44', 'year', 'old', 'chinese', 'man', 'from', 'wuhan', 'who', 'went', 'to', 'a', 'hospital', 'in', 'the', 'philippines', 'on', 'january', '25', 'his', 'symptoms', 'included', 'coughing', 'sore', 'throat', 'and', 'fever', 'he', 'developed', 'severe', 'pneumonia', 'and', 'died', 'a', 'few', 'days', 'later', 'all', 'but', '44', 'of', 'the', 'people', 'sickened', 'by', 'the', 'virus', 'are', 'in', 'asia', 'an', 'official', 'name', 'for', 'the', 'virus', 'there', 'is', 'currently', 'no', 'official', 'name', 'for', 'the', 'virus', 'some', 'chinese', 'researchers', 'call', 'the', 'disease', 'ncip', 'or', 'novel', 'coronavirus–infected', 'pneumonia', 'the', 'world', 'health', 'organization', 'has', 'proposed', 'calling', 'the', 'illness', '“', '2019ncov', 'acute', 'respiratory', 'disease', '”', 'they', 'suggested', 'the', 'virus', 'be', 'called', '“', '2019ncov', '”', 'the', '“', '‘', 'n', '”', 'stands', 'for', 'the', 'word', 'novel', 'while', 'the', '“', 'cov', '”', 'stands', 'for', 'coronavirus', 'the', 'international', 'committee', 'on', 'taxonomy', 'of', 'viruses', 'will', 'decide', 'the', 'official', 'name', 'of', 'the', 'virus', 'how', 'who', 'recommends', 'creating', 'a', 'name', 'the', 'world', 'health', 'organization', '’', 's', 'best', 'practices', 'for', 'the', 'naming', 'of', 'new', 'human', 'infectious', 'diseases', 'encourages', 'using', 'descriptive', 'terms', 'like', '“', 'respiratory', 'disease', '”', '“', 'neurologic', 'syndrome', '”', '“', 'severe', '”', 'or', '“', 'progressive', '”', 'it', 'also', 'recommends', 'using', 'the', 'known', 'pathogen', 'in', 'the', 'name', 'of', 'the', 'disease', 'the', 'world', 'health', 'organization', 'discourages', 'using', 'animals', 'species', 'classes', 'people', 'geographic', 'locations', 'or', 'foods', 'as', 'part', 'of', 'the', 'official', 'name', 'for', 'any', 'disease', 'worrisome', 'cases', 'and', 'bold', 'action', 'health', 'officials', 'find', '2019ncov', 'cases', 'in', 'the', 'us', 'germany', 'japan', 'and', 'vietnam', 'worrisome', 'because', 'none', 'of', 'the', 'patients', 'personally', 'visited', 'china', 'they', 'contracted', 'the', 'virus', 'by', 'coming', 'in', 'contact', 'with', 'someone', 'who', 'had', 'been', 'to', 'wuhan', 'china', 'the', 'world', 'health', 'organization', 'is', 'paying', 'close', 'attention', 'to', 'these', 'human', 'to', 'human', 'transmission', 'cases', 'the', 'organization', 'praised', 'china', 'for', 'its', 'bold', 'action', 'in', 'isolating', '50', 'million', 'people', 'in', 'the', 'cities', 'of', 'wuhan', 'huanggang', 'and', 'ezhou', 'at', 'the', 'center', 'of', 'the', 'outbreak', 'to', 'stop', 'its', 'spread', 'they', 'shut', 'down', 'transportation', 'links', 'and', 'placed', 'certain', 'cities', 'in', 'quarantine', 'the', 'who', 'called', 'china', '’', 's', 'actions', '“', 'unprecedented', 'in', 'public', 'health', 'history', '”', 'how', 'the', 'virus', 'spreads', 'among', 'people', 'according', 'to', 'the', 'centers', 'for', 'disease', 'control', 'in', 'parts', 'of', 'china', 'and', 'other', 'countries', 'the', 'virus', 'is', 'now', 'spreading', 'persontoperson', 'the', 'cdc', 'says', 'the', 'most', 'common', 'ways', 'the', 'virus', 'spreads', 'from', 'an', 'infected', 'person', 'to', 'healthy', 'people', 'around', 'them', 'is', 'when', 'they', 'cough', 'or', 'sneeze', 'and', 'release', 'viral', 'particles', 'into', 'the', 'air', 'and', 'through', 'touching', 'shaking', 'hands', 'and', 'others', 'forms', 'of', 'close', 'personal', 'contact', 'when', 'healthy', 'people', 'touch', 'objects', 'or', 'surfaces', 'on', 'which', 'there', 'are', 'viral', 'particles', 'then', 'touch', 'their', 'eyes', 'nose', 'or', 'mouth', 'before', 'washing', 'their', 'hands', 'the', 'virus', 'can', 'spread', 'in', 'some', 'rare', 'cases', 'fecal', 'contamination', 'can', 'cause', 'the', 'virus', 'to', 'spread', 'as', 'well', 'potential', 'for', 'becoming', 'a', 'pandemic', 'there', 'are', 'three', 'things', 'this', 'or', 'any', 'other', 'virus', 'must', 'do', 'to', 'cause', 'a', 'pandemic', 'in', 'humans', 'they', 'are', 'efficiently', 'infect', 'humans', 'replicate', 'in', 'humans', 'spread', 'easily', 'among', 'humans', 'currently', 'it', 'is', 'unclear', 'just', 'how', 'easy', 'it', 'is', 'for', 'the', '2019ncov', 'virus', 'to', 'spreads', 'from', 'one', 'person', 'to', 'another', 'to', 'determine', 'this', 'scientists', 'must', 'calculate', 'the', 'virus', '’', '‘', 'basic', 'reproduction', 'number', '’', 'that', '’', 's', 'the', 'number', 'of', 'people', 'on', 'average', 'who', 'can', 'catch', 'the', 'virus', 'form', 'one', 'infected', 'person', 'a', 'recent', 'new', 'england', 'journal', 'of', 'medicine', 'article', 'stated', 'the', 'estimated', 'basic', 'reproduction', 'number', 'for', 'the', '2019ncov', 'virus', 'is', '22', 'people', 'that', 'means', 'each', 'person', 'that', 'is', 'infected', 'has', 'been', 'spreading', 'the', '2019ncov', 'virus', 'to', 'between', '2', 'and', '3', 'people', 'this', 'means', 'it', 'has', 'the', 'potential', 'to', 'continue', 'to', 'spread', 'unless', 'public', 'health', 'measures', 'stem', 'the', 'outbreak', 'low', 'risk', 'for', 'the', 'american', 'public', 'according', 'to', 'the', 'centers', 'for', 'disease', 'control', 'while', 'the', 'outbreaks', 'of', 'new', 'viruses', 'can', 'always', 'cause', 'serious', 'concern', 'the', 'immediate', 'risk', 'of', 'the', '2019ncov', 'outbreak', 'to', 'the', 'american', 'public', 'is', 'very', 'low', 'the', 'cdc', 'points', 'to', 'the', 'small', 'number', 'of', 'people', 'in', 'the', 'us', 'who', 'are', 'infected', 'with', 'the', 'disease', 'and', 'the', 'viruses', 'limited', 'spread', 'in', 'the', 'us', 'as', 'the', 'primary', 'reasons', 'why', 'however', 'the', 'cdc', 'points', 'out', 'that', 'the', 'risk', 'of', 'an', 'individual', 'becoming', 'infected', '“', 'depends', 'on', 'exposure', '”', 'health', 'care', 'workers', 'and', 'people', 'who', 'have', 'relatives', 'and', 'close', 'friends', 'who', 'are', 'infected', 'with', '2019ncov', 'face', 'an', 'increased', 'risk', 'of', 'becoming', 'infected', 'the', 'cdc', 'explained', 'safe', 'to', 'study', 'abroad', 'none', 'of', 'the', 'over', '20000', 'people', 'who', 'have', 'become', 'infected', 'with', 'the', '2019ncov', 'virus', 'are', 'students', 'studying', 'abroad', 'this', 'has', 'been', 'great', 'news', 'to', 'the', 'tens', 'of', 'thousands', 'of', 'foreign', 'students', 'studying', 'in', 'china', 'this', 'has', 'helped', 'to', 'support', 'the', 'general', 'message', 'that', 'it', '’', 's', 'safe', 'to', 'study', 'abroad', 'at', 'this', 'time', 'the', 'schools', 'universities', 'and', 'organizations', 'through', 'which', 'these', 'foreign', 'students', 'study', 'work', 'diligently', 'to', 'ensure', 'they', 'are', 'safe', 'and', 'protected', 'form', 'contact', 'with', 'people', 'infected', 'with', 'the', 'virus', 'students', 'are', 'invited', 'to', 'apply', 'to', 'participate', 'in', 'excellent', 'foreign', 'study', 'healthcare', 'education', 'admissions', 'consulting', 'and', 'healthcare', 'internship', 'programs', 'a', 'public', 'health', 'emergency', 'the', 'world', 'health', 'organization', 'declared', 'on', 'january', '30', 'the', '2019ncov', 'virus', 'outbreak', 'is', 'a', 'public', 'health', 'emergency', 'about', 'which', 'the', 'international', 'community', 'should', 'be', 'concerned', 'the', 'who', 'said', 'the', 'primary', 'reason', 'for', 'the', 'declaration', 'is', 'their', 'concern', 'the', 'virus', 'could', 'begin', 'to', 'spread', 'to', 'countries', 'that', 'have', 'weaker', 'healthcare', 'systems', 'they', 'compare', 'the', 'spread', 'of', 'the', '2019ncov', 'virus', 'to', 'the', 'spread', 'of', 'sars', 'and', 'mers', 'all', 'three', 'have', 'caused', 'some', 'people', 'mild', 'to', 'severe', 'symptoms', 'of', 'respiratory', 'problems', 'that', 'have', 'resulted', 'in', 'some', 'deaths', 'and', 'the', 'viruses', 'can', 'be', 'transmitted', 'through', 'close', 'contact', 'coronaviruses', 'going', 'from', 'animals', 'to', 'humans', 'in', 'the', 'mers', 'coronavirus', 'outbreak', 'that', 'was', 'first', 'reported', 'in', 'saudi', 'arabia', 'in', '2012', 'the', 'virus', 'was', 'transmitted', 'from', 'animals', 'to', 'humans', 'through', 'touching', 'or', 'consuming', 'the', 'milk', 'or', 'meat', 'from', 'infected', 'camels', 'sars', 'the', 'first', 'cases', 'of', 'which', 'were', 'reported', 'in', 'southern', 'china', 'in', '2002', 'experts', 'think', 'was', 'caused', 'by', 'bats', 'infecting', 'civets', 'today', 'experts', 'say', 'the', '2019ncov', 'virus', 'began', 'to', 'spread', 'in', 'wuhan', 'by', 'people', 'who', 'touched', 'or', 'ate', 'infected', 'animals', 'mers', 'had', 'a', 'fatality', 'rate', 'of', 'over', '34', 'and', 'sars', 'had', 'a', '10', 'fatality', 'rate', 'the', 'fatality', 'rate', 'for', 'the', '2019ncov', 'virus', 'is', 'currently', 'about', '2', 'the', 'people', 'who', 'died', 'were', 'over', 'age', '60', 'and', 'had', 'preexisting', 'conditions', 'developing', 'innovative', 'treatments', 'healthcare', 'experts', 'are', 'working', 'hard', 'to', 'keep', 'fatalities', 'from', 'the', '2019ncov', 'virus', 'down', 'by', 'developing', 'innovative', 'new', 'treatments', 'currently', 'when', 'people', 'begin', 'developing', 'symptoms', 'like', 'coughing', 'fever', 'difficulty', 'breathing', 'sore', 'throats', 'bronchitis', 'pneumonia', 'and', 'other', 'lowerrespiratory', 'tract', 'illnesses', 'they', 'turn', 'to', 'standard', 'treatments', 'they', 'include', 'rest', 'medication', 'hot', 'showers', 'humidifiers', 'and', 'drinking', 'lot', 'of', 'fluids', 'however', 'us', 'national', 'institutes', 'of', 'health', 'researchers', 'are', 'developing', 'a', 'vaccine', 'and', 'experts', 'at', 'the', 'national', 'institute', 'of', 'allergy', 'and', 'infectious', 'diseases', 'are', 'designing', 'therapies', 'to', 'detect', 'the', 'virus', 'and', 'train', 'immune', 'cells', 'to', 'destroy', 'it', '“', 'level', '4', '”', 'travel', 'advisory', 'issued', 'the', 'us', 'government', 'has', 'issued', 'a', '‘', 'level', '4', '’', 'travel', 'advisory', 'against', 'americans', 'travelling', 'to', 'any', 'part', 'of', 'china', 'at', 'all', 'that', 'is', 'their', 'highest', 'and', 'strongest', 'warning', 'level', 'the', 'cdc', 'recommends', 'americans', 'cancel', 'all', 'of', 'their', 'nonessential', 'trips', 'to', 'china', 'almost', '200', 'americans', 'were', 'also', 'evacuated', 'from', 'wuhan', 'china', 'they', 'will', 'be', 'monitored', 'in', 'quarantine', 'for', '14', 'days', 'to', 'see', 'if', 'they', 'show', 'signs', 'of', 'the', 'infection', 'american', 'who', 'have', 'been', 'to', 'other', 'parts', 'of', 'china', 'will', 'be', 'asked', 'to', 'selfquarantine', 'for', 'at', 'least', '14', 'days', 'in', 'australia', 'noncitizens', 'who', 'recently', 'visited', 'china', 'are', 'prohibited', 'from', 'entering', 'the', 'country', 'china', 'bans', 'the', 'sale', 'of', 'wildlife', 'researchers', 'and', 'healthcare', 'experts', 'say', 'the', '2019ncov', 'virus', 'spreads', 'from', 'animals', 'to', 'humans', 'when', 'people', 'touch', 'or', 'eat', 'infected', 'animals', 'in', 'an', 'attempt', 'to', 'protect', 'its', 'citizens', 'from', 'coming', 'in', 'contact', 'with', 'or', 'consuming', 'wild', 'animals', 'that', 'are', 'infected', 'with', 'the', '2019ncov', 'virus', 'the', 'government', 'of', 'china', 'has', 'banned', 'markets', 'restaurants', 'and', 'companies', 'and', 'individuals', 'online', 'from', 'selling', 'live', 'or', 'dead', 'wildlife', 'of', 'any', 'type', 'this', 'is', 'an', 'important', 'and', 'helpful', 'move', 'because', 'millions', 'of', 'people', 'in', 'china', 'eat', 'wild', 'animals', 'and', 'use', 'them', 'in', 'rituals', 'and', 'could', 'potentially', 'be', 'in', 'danger', 'of', 'becoming', 'infected', 'how', 'people', 'can', 'protect', 'themselves', 'according', 'to', 'the', 'centers', 'for', 'disease', 'control', 'and', 'prevention', 'the', 'best', 'way', 'people', 'can', 'prevent', 'themselves', 'from', 'becoming', 'infected', 'with', 'the', '2019ncov', 'virus', 'is', 'to', 'avoid', 'exposure', 'to', 'people', 'or', 'animals', 'sickened', 'with', 'it', 'the', 'cdc', 'recommends', 'people', 'who', 'are', 'uncertain', 'of', 'whether', 'or', 'not', 'the', 'people', 'with', 'whom', 'they', 'have', 'made', 'contact', 'have', 'the', 'respiratory', 'viruses', 'take', 'certain', 'steps', 'to', 'prevent', 'getting', 'sickened', 'by', 'or', 'spreading', 'the', '2019ncov', 'virus', 'those', 'steps', 'include', 'spending', 'at', 'least', '20', 'seconds', 'washing', 'their', 'hands', 'as', 'often', 'as', 'possible', 'using', 'soap', 'and', 'water', 'make', 'sure', 'your', 'hands', 'are', 'washed', 'before', 'touching', 'the', 'mouth', 'eyes', 'or', 'nose', 'when', 'people', 'are', 'sick', 'with', 'the', 'virus', 'avoid', 'close', 'contact', 'with', 'them', 'if', 'you', 'are', 'sick', 'with', 'the', 'virus', 'stay', 'home', 'clean', 'and', 'disinfect', 'object', 'and', 'surfaces', 'that', 'are', 'touched', 'frequently', 'if', 'traveling', 'to', 'china', 'avoid', 'contact', 'with', 'dead', 'or', 'live', 'animals', 'sick', 'people', 'animal', 'markets', 'and', 'animal', 'products', 'like', 'uncooked', 'meat', 'seek', 'medical', 'care', 'immediately', 'if', 'you', 'visited', 'china', 'and', 'within', 'two', 'weeks', 'you', 'have', 'a', 'fever', 'are', 'coughing', 'or', 'have', 'difficulty', 'breathing', 'before', 'going', 'to', 'a', 'medical', 'facility', 'tell', 'the', 'staff', 'you', 'recently', 'visited', 'china', 'misleading', 'headlines', 'cause', 'unnecessary', 'fear', 'there', 'have', 'been', 'some', 'misleading', 'headlines', 'implying', 'the', '2019ncov', 'virus', 'has', 'a', 'similar', 'death', 'rate', 'to', 'that', 'of', 'the', 'spanish', 'flu', 'one', '‘', 'expert', '’', 'who', 'was', 'quoted', 'making', 'such', 'a', 'statement', 'is', 'imperial', 'college', 'london', 'professor', 'neil', 'ferguson', 'professor', 'ferguson', 'has', 'since', 'clarified', 'his', 'statement', 'and', 'explained', 'he', 'was', 'taking', 'about', 'the', 'spanish', 'flu', '’', 's', 'death', 'rate', 'in', 'the', 'united', 'kingdom', 'and', 'the', 'united', 'states', 'however', 'frightening', 'doomsday', 'headlines', 'like', 'these', 'can', 'make', 'people', 'worry', 'unnecessarily', 'and', 'create', 'a', 'sense', 'of', 'panic', 'in', 'the', 'public', 'that', 'is', 'counterproductive', 'the', 'spanish', 'flu', 'killed', '50', 'million', 'of', 'the', '500', 'million', 'people', 'worldwide', 'that', 'were', 'infected', 'with', 'it', 'for', 'a', '10', 'death', 'rate', 'better', 'healthcare', 'available', 'today', 'when', 'the', 'spanish', 'flu', 'infected', 'one', 'third', 'of', 'the', 'world', '’', 's', 'population', 'and', 'became', 'known', 'as', 'the', 'most', 'devastating', 'modern', 'pandemic', 'healthcare', 'was', 'much', 'different', 'than', 'it', 'is', 'today', 'many', 'important', 'medical', 'advancements', 'have', 'been', 'made', 'in', 'the', 'past', '102', 'years', 'according', 'to', 'the', 'centers', 'for', 'disease', 'control', 'and', 'prevention', 'when', 'the', 'spanish', 'flu', 'was', 'spreading', 'like', 'wildfire', 'there', 'was', 'no', 'influenza', 'vaccine', 'to', 'prevent', 'people', 'from', 'becoming', 'infected', 'today', 'healthcare', 'experts', 'are', 'hard', 'at', 'work', 'on', 'a', 'vaccine', 'that', 'can', 'help', 'to', 'prevent', 'the', '2019nvoc', 'virus', 'from', 'becoming', 'a', 'global', 'pandemic', 'a', 'vaccine', 'is', 'expected', 'to', 'be', 'ready', 'within', 'a', 'few', 'months', 'a', 'very', 'high', 'infection', 'rate', 'according', 'to', 'the', 'results', 'of', 'an', 'early', 'study', 'published', 'in', 'the', 'international', 'general', 'medical', 'journal', 'the', 'lancet', 'and', 'several', 'chinese', 'newspapers', 'early', 'analysis', 'of', 'the', 'people', 'in', 'china', 'who', 'come', 'in', 'contact', 'with', 'the', '2019ncov', 'virus', 'show', 'an', 'infection', 'rate', 'of', 'about', '83', 'this', 'has', 'some', 'alarmed', 'because', 'of', 'the', 'potential', 'consequences', 'it', 'can', 'have', 'for', 'people', 'around', 'world', 'about', '50', 'of', 'people', 'in', 'china', 'infected', 'by', 'the', 'virus', 'are', 'from', 'the', 'wuhan', 'area', 'experts', 'warn', 'that', 'this', 'is', 'a', 'very', 'small', 'study', 'that', 'includes', 'only', '41', 'people', 'and', 'that', 'more', 'time', 'and', 'larger', 'studies', 'are', 'needed', 'to', 'provide', 'accurate', 'data', 'major', 'knowledge', 'gaps', 'there', 'is', 'much', 'that', 'remains', 'unknown', 'about', 'the', '2019ncov', 'virus', 'those', 'knowledge', 'gaps', 'are', 'in', 'the', 'virus', '’', 'origin', 'epidemiology', 'clinical', 'spectrum', 'of', 'the', 'disease', 'and', 'duration', 'of', 'human', 'transmission', 'infected', 'people', 'tend', 'to', 'develop', 'difficulty', 'breathing', 'within', '5', 'to', '8', 'days', 'of', 'infection', 'and', 'about', '12', 'of', 'patients', 'suffer', 'acute', 'cardiac', 'injury', 'and', 'permanent', 'heart', 'damage', 'the', 'who', 'and', 'cdc', 'are', 'sending', 'teams', 'of', 'researchers', 'into', 'china', 'to', 'fill', 'those', 'knowledge', 'gaps', 'and', 'gather', 'information', 'that', 'will', 'help', 'to', 'lead', 'to', 'better', 'infection', 'prevention', 'and', 'treatment', 'methods', 'at', 'this', 'point', 'gathering', 'accurate', 'information', 'is', 'essential', 'special', 'hospitals', 'being', 'rapidly', 'built', 'in', 'just', '10', 'days', 'an', 'army', 'of', '7000', 'carpenters', 'electricians', 'plumbers', 'and', 'other', 'specialists', 'constructed', 'a', 'hospital', 'with', 'room', 'for', '1000', 'beds', 'on', 'the', 'outskirts', 'of', 'wuhan', 'china', 'to', 'treat', 'people', 'infected', 'with', 'the', '2019ncov', 'virus', 'called', 'huoshenshan', 'hospital', 'the', '25000squaremeter', 'facility', 'was', 'built', 'using', 'prefabricated', 'wards', 'and', 'is', 'reportedly', 'equipped', 'with', 'medical', 'equipment', 'as', 'well', 'as', 'ventilation', 'systems', 'that', 'are', 'stateoftheart', 'with', 'people', '’', 's', 'liberation', 'army', 'medical', 'teams', 'staffing', 'the', 'facility', 'the', 'hospital', 'has', 'already', 'started', 'treating', 'patients', 'a', 'second', '1500', 'bed', 'facility', 'called', 'leishenshan', 'hospital', 'being', 'built', 'nearby', 'is', 'scheduled', 'to', 'open', 'within', 'days', 'health', 'experts', 'believe', 'the', 'additional', 'hospital', 'space', 'is', 'important', 'to', 'stopping', 'the', 'virus', 'from', 'spreading', 'virus', 'protection', 'in', 'east', 'africa', 'kenya', 'and', 'other', 'countries', 'in', 'east', 'africa', 'have', 'a', 'very', 'close', 'relationship', 'with', 'china', 'there', 'are', 'even', 'people', 'from', 'east', 'africa', 'working', 'in', 'and', 'around', 'wuhan', 'the', 'epicenter', 'of', 'the', '2019ncov', 'virus', 'outbreak', 'to', 'prevent', 'the', 'virus', 'from', 'making', 'its', 'way', 'into', 'east', 'africa', 'daily', 'flights', 'to', 'and', 'from', 'china', 'have', 'been', 'largely', 'halted', 'travelers', 'from', 'china', 'are', 'screened', 'at', 'the', 'airports', 'and', 'quarantined', 'africa', 'cdc', 'the', 'ethiopian', 'public', 'health', 'institute', 'ncdc', 'and', 'other', 'strong', 'experienced', 'african', 'healthcare', 'institutions', 'are', 'working', 'hard', 'to', 'protect', 'the', 'masses', 'sharing', 'accurate', 'information', 'has', 'helped', 'keep', 'people', 'safe']\n"
          ],
          "name": "stdout"
        }
      ]
    },
    {
      "cell_type": "code",
      "metadata": {
        "id": "Ws5CUqBNOLYU"
      },
      "source": [
        "GREETING_INPUTS = [\"hi\", \"hello\", \"greetings\", \"hey\"]\n",
        "\n",
        "GREETING_RESPONSES = [\"hi\", \"hey\", \"what's good\", \"hello\", \"hey there\"]\n",
        "\n",
        "def greeting(sentence):\n",
        "  for word in sentence.split():\n",
        "    if word.lower() in GREETING_INPUTS:\n",
        "      return random.choice(GREETING_RESPONSES)"
      ],
      "execution_count": null,
      "outputs": []
    },
    {
      "cell_type": "code",
      "metadata": {
        "id": "UHq0ivRUO2kv"
      },
      "source": [
        "def response(user_response):\n",
        "\n",
        "\n",
        "  #user_response = 'What are coronaviruses'\n",
        "\n",
        "  user_response = user_response.lower()\n",
        "\n",
        "  #print(user_response)\n",
        "\n",
        "  robo_response = ''\n",
        "\n",
        "  sent_tokens.append(user_response)\n",
        "\n",
        "  #print(sent_tokens)\n",
        "\n",
        "  TfidfVec = TfidfVectorizer(tokenizer = LemNormalize, stop_words = 'english')\n",
        "\n",
        "  tfidf = TfidfVec.fit_transform(sent_tokens)\n",
        "\n",
        "  #print(tfidf)\n",
        "\n",
        "  vals = cosine_similarity(tfidf[-1], tfidf)\n",
        "\n",
        "  #print(vals)\n",
        "\n",
        "  idx = vals.argsort()[0][-2]\n",
        "\n",
        "  flat = vals.flatten()\n",
        "\n",
        "  flat.sort()\n",
        "\n",
        "  score = flat[-2]\n",
        "\n",
        "  #print(score)\n",
        "\n",
        "  if(score == 0):\n",
        "    robo_response = robo_response+\"I apologize, I don't understand.\"\n",
        "  else:\n",
        "    robo_response = robo_response+sent_tokens[idx]\n",
        "\n",
        "  #print(robo_response)\n",
        "\n",
        "  sent_tokens.remove(user_response)\n",
        "  return robo_response"
      ],
      "execution_count": null,
      "outputs": []
    },
    {
      "cell_type": "code",
      "metadata": {
        "id": "4vXzykpUPIh3",
        "outputId": "2b6697a9-f086-49c1-e7c5-9001f87a40a5",
        "colab": {
          "base_uri": "https://localhost:8080/",
          "height": 277
        }
      },
      "source": [
        "flag = True\n",
        "print(\"DOCBot: I am Doctor Bot or DOCBot for short. I will answer your queries about Coronavirus. If you want to exit, type Bye!\")\n",
        "while(flag == True):\n",
        "  user_response = input()\n",
        "  user_response = user_response.lower()\n",
        "  if(user_response != 'bye'):\n",
        "    if(user_response == 'thanks' or user_response == 'thank you'):\n",
        "      flag = False\n",
        "      print(\"DOCBot: You are welcome!\")\n",
        "    else:\n",
        "      if(greeting(user_response) != None):\n",
        "        print(\"DOCBot: \"+greeting(user_response))\n",
        "      else:\n",
        "        print(\"DOCBot: \"+response(user_response))\n",
        "  else:\n",
        "    flag = False\n",
        "    print(\"DOCBot: Chat with you later!\")\n"
      ],
      "execution_count": null,
      "outputs": [
        {
          "output_type": "stream",
          "text": [
            "DOCBot: I am Doctor Bot or DOCBot for short. I will answer your queries about Coronavirus. If you want to exit, type Bye!\n",
            "hi\n",
            "DOCBot: hey\n",
            "what are coronavirus?\n",
            "DOCBot: The 2019 novel coronavirus has the potential to be a global pandemic.\n",
            "What is the symptoms of coronavirus?\n",
            "DOCBot: Symptoms Of The Illness\n",
            "\n",
            "People infected with the 2019 novel coronavirus begin to experience mild cold or flu-like symptoms in two to four days.\n",
            "How people can protect themselves fromcoronavirus?\n",
            "DOCBot: How People Can Protect Themselves\n",
            "\n",
            "According to the Centers for Disease Control and Prevention, the best way people can prevent themselves from becoming infected with the 2019-nCoV virus is to avoid exposure to people or animals sickened with it.\n"
          ],
          "name": "stdout"
        }
      ]
    }
  ]
}